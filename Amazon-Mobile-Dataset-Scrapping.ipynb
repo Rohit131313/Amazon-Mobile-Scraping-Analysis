{
 "cells": [
  {
   "cell_type": "markdown",
   "id": "857e3104",
   "metadata": {},
   "source": [
    "# Amazon-Mobile-Dataset-Scrapping"
   ]
  },
  {
   "cell_type": "code",
   "execution_count": null,
   "id": "5a179ca3",
   "metadata": {},
   "outputs": [],
   "source": [
    "!pip install bs4"
   ]
  },
  {
   "cell_type": "code",
   "execution_count": null,
   "id": "8ad07a89",
   "metadata": {},
   "outputs": [],
   "source": [
    "!pip install requests"
   ]
  },
  {
   "cell_type": "code",
   "execution_count": null,
   "id": "427174d4",
   "metadata": {},
   "outputs": [],
   "source": [
    "!pip install pandas"
   ]
  },
  {
   "cell_type": "code",
   "execution_count": null,
   "id": "756320dd",
   "metadata": {},
   "outputs": [],
   "source": [
    "from bs4 import BeautifulSoup\n",
    "import requests\n",
    "import pandas as pd\n",
    "import numpy as np"
   ]
  },
  {
   "cell_type": "code",
   "execution_count": null,
   "id": "0728802c",
   "metadata": {},
   "outputs": [],
   "source": [
    "URL=\"https://www.amazon.in/s?k=laptop&crid=21KNC6TDHLMIV&sprefix=lapto%2Caps%2C318&ref=nb_sb_noss_2\" \n",
    "## Link of laptop webpage on Amazon"
   ]
  },
  {
   "cell_type": "code",
   "execution_count": null,
   "id": "11451c1f",
   "metadata": {},
   "outputs": [],
   "source": [
    "HEADERS = ({'User-Agent':'Mozilla/5.0 (Windows NT 10.0; Win64; x64) AppleWebKit/537.36 (KHTML, like Gecko) Chrome/109.0.0.0 Safari/537.36','Accept-Language':'en-US, en;q=0.5'})"
   ]
  },
  {
   "cell_type": "code",
   "execution_count": null,
   "id": "7cc0cf1d",
   "metadata": {},
   "outputs": [],
   "source": [
    "# HTTP Request\n",
    "webpage = requests.get(URL,headers=HEADERS)"
   ]
  },
  {
   "cell_type": "code",
   "execution_count": null,
   "id": "cb089c49",
   "metadata": {},
   "outputs": [],
   "source": [
    "webpage"
   ]
  },
  {
   "cell_type": "code",
   "execution_count": null,
   "id": "d6960030",
   "metadata": {},
   "outputs": [],
   "source": [
    "webpage.content"
   ]
  },
  {
   "cell_type": "code",
   "execution_count": null,
   "id": "af86bd92",
   "metadata": {},
   "outputs": [],
   "source": [
    "# Soup Object containiang all data\n",
    "soup = BeautifulSoup(webpage.content,'html.parser')"
   ]
  },
  {
   "cell_type": "code",
   "execution_count": null,
   "id": "3c75f164",
   "metadata": {},
   "outputs": [],
   "source": [
    "soup "
   ]
  },
  {
   "cell_type": "code",
   "execution_count": null,
   "id": "820ef8c2",
   "metadata": {},
   "outputs": [],
   "source": [
    "# to find all the a tag with these class in html code file\n",
    "links = soup.find_all(\"a\" , attrs={'class':'a-link-normal s-underline-text s-underline-link-text s-link-style a-text-normal'})"
   ]
  },
  {
   "cell_type": "code",
   "execution_count": null,
   "id": "213bcc3b",
   "metadata": {},
   "outputs": [],
   "source": [
    "type(links)"
   ]
  },
  {
   "cell_type": "code",
   "execution_count": null,
   "id": "3d0b7e88",
   "metadata": {},
   "outputs": [],
   "source": [
    "links"
   ]
  },
  {
   "cell_type": "code",
   "execution_count": null,
   "id": "437e10cc",
   "metadata": {},
   "outputs": [],
   "source": [
    "links[0]"
   ]
  },
  {
   "cell_type": "code",
   "execution_count": null,
   "id": "988b6657",
   "metadata": {},
   "outputs": [],
   "source": [
    "link=links[0].get('href')"
   ]
  },
  {
   "cell_type": "code",
   "execution_count": null,
   "id": "ec981606",
   "metadata": {},
   "outputs": [],
   "source": [
    "type(links[0])"
   ]
  },
  {
   "cell_type": "code",
   "execution_count": null,
   "id": "9cff88e7",
   "metadata": {},
   "outputs": [],
   "source": [
    "link"
   ]
  },
  {
   "cell_type": "code",
   "execution_count": null,
   "id": "9f5b6f7f",
   "metadata": {},
   "outputs": [],
   "source": [
    "product_link=\"https://amazon.in\" + link"
   ]
  },
  {
   "cell_type": "code",
   "execution_count": null,
   "id": "910841de",
   "metadata": {},
   "outputs": [],
   "source": [
    "product_link"
   ]
  },
  {
   "cell_type": "code",
   "execution_count": null,
   "id": "a117110c",
   "metadata": {},
   "outputs": [],
   "source": [
    "# HTTP Request\n",
    "new_webpage = requests.get(product_link,headers=HEADERS)"
   ]
  },
  {
   "cell_type": "code",
   "execution_count": null,
   "id": "fa926c0f",
   "metadata": {},
   "outputs": [],
   "source": [
    "new_webpage"
   ]
  },
  {
   "cell_type": "code",
   "execution_count": null,
   "id": "7d00ac0f",
   "metadata": {},
   "outputs": [],
   "source": [
    "# Soup Object containiang all data\n",
    "new_soup = BeautifulSoup(new_webpage.content,'html.parser')"
   ]
  },
  {
   "cell_type": "code",
   "execution_count": null,
   "id": "74222cae",
   "metadata": {},
   "outputs": [],
   "source": [
    "new_soup"
   ]
  },
  {
   "cell_type": "code",
   "execution_count": null,
   "id": "d04328a8",
   "metadata": {},
   "outputs": [],
   "source": [
    "# To Extract the Product Title \n",
    "new_soup.find(\"span\",attrs={\"id\":\"productTitle\"})"
   ]
  },
  {
   "cell_type": "code",
   "execution_count": null,
   "id": "0cb6aa3f",
   "metadata": {},
   "outputs": [],
   "source": [
    "new_soup.find(\"span\",attrs={\"id\":\"productTitle\"}).text.strip() ## as this is string so can use property of string"
   ]
  },
  {
   "cell_type": "code",
   "execution_count": null,
   "id": "39bc8b80",
   "metadata": {},
   "outputs": [],
   "source": [
    "# to extract the price\n",
    "new_soup.find(\"span\",attrs={\"class\":\"a-price-whole\"})"
   ]
  },
  {
   "cell_type": "code",
   "execution_count": null,
   "id": "23f8bfb6",
   "metadata": {},
   "outputs": [],
   "source": [
    "new_soup.find(\"span\",attrs={\"class\":\"a-price-whole\"}).text"
   ]
  },
  {
   "cell_type": "code",
   "execution_count": null,
   "id": "47e3d03c",
   "metadata": {},
   "outputs": [],
   "source": [
    "# to extract the rating of this product\n",
    "new_soup.find(\"span\",attrs={\"class\":\"a-icon-alt\"})"
   ]
  },
  {
   "cell_type": "code",
   "execution_count": null,
   "id": "2a42c6ca",
   "metadata": {},
   "outputs": [],
   "source": [
    "new_soup.find(\"span\",attrs={\"class\":\"a-icon-alt\"}).text"
   ]
  },
  {
   "cell_type": "markdown",
   "id": "c92f327d",
   "metadata": {},
   "source": [
    "# Now we will be doing the extraction of whole data But in this case we will be using the data of mobile instead of Laptop"
   ]
  },
  {
   "cell_type": "code",
   "execution_count": null,
   "id": "5f3e1dee",
   "metadata": {},
   "outputs": [],
   "source": [
    "# Function to extract Product Title\n",
    "def get_title(soup):\n",
    "\n",
    "    try:\n",
    "        # Outer Tag Object\n",
    "        title = soup.find(\"span\", attrs={\"id\":'productTitle'})\n",
    "        \n",
    "        # Inner NavigatableString Object\n",
    "        title_value = title.text\n",
    "\n",
    "        # Title as a string value\n",
    "        title_string = title_value.strip()\n",
    "\n",
    "    except AttributeError:\n",
    "        title_string = \"\"\n",
    "\n",
    "    return title_string\n",
    "\n",
    "# Function to extract Product Price\n",
    "def get_price(soup):\n",
    "\n",
    "    try:\n",
    "        price = soup.find(\"span\", attrs={'class':'a-price-whole'}).text.strip()\n",
    "\n",
    "    except AttributeError:\n",
    "\n",
    "        try:\n",
    "            # If there is some deal price\n",
    "            price = soup.find(\"span\", attrs={'id':'priceblock_dealprice'}).text.strip()\n",
    "\n",
    "        except:\n",
    "            price = \"00\"\n",
    "\n",
    "    return price\n",
    "\n",
    "# Function to extract Product Rating\n",
    "def get_rating(soup):\n",
    "\n",
    "    try:\n",
    "        rating = soup.find(\"i\", attrs={'class':'a-icon a-icon-star a-star-3-5 cm-cr-review-stars-spacing-big'}).string.strip()\n",
    "    \n",
    "    except AttributeError:\n",
    "        try:\n",
    "            rating = soup.find(\"span\", attrs={'class':'a-icon-alt'}).string.strip()\n",
    "        except:\n",
    "            rating = \"\"\t\n",
    "\n",
    "    return rating\n",
    "\n",
    "# Function to extract Number of User Reviews\n",
    "def get_review_count(soup):\n",
    "    try:\n",
    "        review_count = soup.find(\"span\", attrs={'id':'acrCustomerReviewText'}).text.strip()\n",
    "\n",
    "    except AttributeError:\n",
    "        review_count = \"\"\n",
    "\n",
    "    return review_count\n",
    "\n",
    "# Function to extract Availability Status\n",
    "def get_availability(soup):\n",
    "    try:\n",
    "        available = soup.find(\"span\", attrs={'class':'a-size-medium a-color-success'}).text.strip()\n",
    "        \n",
    "        ##available = available.find(\"span\").string.strip() to find tag inside other tag\n",
    "\n",
    "    except AttributeError:\n",
    "        available = \"Not Available\"\t\n",
    "\n",
    "    return available"
   ]
  },
  {
   "cell_type": "code",
   "execution_count": null,
   "id": "e3dff221",
   "metadata": {},
   "outputs": [],
   "source": [
    "    # add your user agent \n",
    "    HEADERS = ({'User-Agent':'Mozilla/5.0 (Windows NT 10.0; Win64; x64) AppleWebKit/537.36 (KHTML, like Gecko) Chrome/109.0.0.0 Safari/537.36', 'Accept-Language': 'en-US, en;q=0.5'})\n",
    "\n",
    "    # The webpage URL\n",
    "    URL = \"https://www.amazon.in/s?k=mobile&crid=SD9BKP6RMRGL&sprefix=mobil%2Caps%2C371&ref=nb_sb_noss_2\"\n",
    "\n",
    "    # HTTP Request\n",
    "    webpage = requests.get(URL, headers=HEADERS)\n",
    "\n",
    "    # Soup Object containing all data\n",
    "    soup = BeautifulSoup(webpage.content, \"html.parser\")\n",
    "\n",
    "    # Fetch links as List of Tag Objects\n",
    "    links = soup.find_all(\"a\", attrs={'class':'a-link-normal s-underline-text s-underline-link-text s-link-style a-text-normal'})\n",
    "\n",
    "    # Store the links as \"links\" is the bs4.element.ResultSet and ResultSet is n BeautifulSoup (often abbreviated as BS4), a ResultSet is a collection of Tag objects that are returned when you perform a search on a parsed HTML or XML document.\n",
    "    links_list = []\n",
    "\n",
    "    # Loop for extracting links from Tag Objects\n",
    "    for link in links:\n",
    "            links_list.append(link.get('href'))\n",
    "\n",
    "    # we are storing the data in dictionary of list so that we can change it into the dataframe later\n",
    "    d = {\"title\":[], \"price\":[], \"rating\":[], \"reviews\":[],\"availability\":[]}\n",
    "    \n",
    "    # Loop for extracting product details from each link \n",
    "    for link in links_list:\n",
    "        \n",
    "        # due to this getting error so simply deleting this product from parse html\n",
    "        if(\"https://aax-eu.amazon.in/x/c/RJBhupm6k0wjg62xNqq6rRoAAAGMBOLpxAMAAAH2AQBvbm9fdHhuX2JpZDEgICBvbm9fdHhuX2ltcDEgICD69lq2/https://www.amazon.in\" in link):\n",
    "            list.decompose()\n",
    "            \n",
    "        \n",
    "        new_webpage = requests.get(\"https://www.amazon.in\" + link, headers=HEADERS)\n",
    "\n",
    "        new_soup = BeautifulSoup(new_webpage.content, \"html.parser\")\n",
    "\n",
    "        # Function calls to display all necessary product information\n",
    "        d['title'].append(get_title(new_soup))\n",
    "        d['price'].append(get_price(new_soup))\n",
    "        d['rating'].append(get_rating(new_soup))\n",
    "        d['reviews'].append(get_review_count(new_soup))\n",
    "        d['availability'].append(get_availability(new_soup))\n",
    "    \n",
    "    \n",
    "    # to change data stored in dictionary to dataframe\n",
    "    amazon_df = pd.DataFrame.from_dict(d)"
   ]
  },
  {
   "cell_type": "code",
   "execution_count": null,
   "id": "0afd7993",
   "metadata": {},
   "outputs": [],
   "source": [
    "amazon_df"
   ]
  },
  {
   "cell_type": "code",
   "execution_count": null,
   "id": "85124a2c",
   "metadata": {},
   "outputs": [],
   "source": [
    "# to save the data in csv file\n",
    "# amazon_df.to_csv(\"amazon_data.csv\", header=True, index=False)"
   ]
  },
  {
   "cell_type": "markdown",
   "id": "c992041d",
   "metadata": {},
   "source": [
    "# End"
   ]
  }
 ],
 "metadata": {
  "kernelspec": {
   "display_name": "Python 3 (ipykernel)",
   "language": "python",
   "name": "python3"
  },
  "language_info": {
   "codemirror_mode": {
    "name": "ipython",
    "version": 3
   },
   "file_extension": ".py",
   "mimetype": "text/x-python",
   "name": "python",
   "nbconvert_exporter": "python",
   "pygments_lexer": "ipython3",
   "version": "3.11.5"
  }
 },
 "nbformat": 4,
 "nbformat_minor": 5
}
